{
  "nbformat": 4,
  "nbformat_minor": 0,
  "metadata": {
    "colab": {
      "name": "Decision Trees.ipynb",
      "provenance": [],
      "collapsed_sections": []
    },
    "kernelspec": {
      "name": "python3",
      "display_name": "Python 3"
    },
    "language_info": {
      "name": "python"
    }
  },
  "cells": [
    {
      "cell_type": "markdown",
      "metadata": {
        "id": "28rjVM89VLCe"
      },
      "source": [
        "#Import the needed libraries"
      ]
    },
    {
      "cell_type": "code",
      "metadata": {
        "id": "bz2QKhWdUa9u"
      },
      "source": [
        "import matplotlib.pyplot as plt\n",
        "import numpy as np\n",
        "import pandas as pd\n",
        "import seaborn as sns\n",
        "from scipy import stats\n",
        "\n",
        "# Math functions\n",
        "from math import log2, sqrt\n",
        "\n",
        "# Sklearn\n",
        "from sklearn.model_selection import train_test_split\n",
        "from sklearn.preprocessing import LabelEncoder\n",
        "from sklearn.tree import DecisionTreeClassifier\n",
        "from sklearn import metrics\n",
        "from sklearn import tree\n",
        "from sklearn import preprocessing\n",
        "from sklearn.tree import export_graphviz\n",
        "from sklearn.model_selection import GridSearchCV\n",
        "\n",
        "# Extra Libraries\n",
        "from six import StringIO\n",
        "from IPython.display import Image\n",
        "import pydotplus\n",
        "from tqdm.notebook import tqdm_notebook as tqdm\n"
      ],
      "execution_count": null,
      "outputs": []
    },
    {
      "cell_type": "markdown",
      "metadata": {
        "id": "Rp4BnapTaJGH"
      },
      "source": [
        "#EDA on the Adult Dataset"
      ]
    },
    {
      "cell_type": "markdown",
      "metadata": {
        "id": "tb2tk96faQyP"
      },
      "source": [
        "##We are going to use a very famous dataset called Adult Dataset: https://archive.ics.uci.edu/ml/datasets/adult\n",
        "\n",
        "\n",
        "####The objective of this dataset is to predict whether income exceeds 50,000 dollars per year based on census data. So, we will use the Decision Tree Algorithm to predict if an individual earns more than $50k annually and is therefore eligible for the new credit card."
      ]
    },
    {
      "cell_type": "code",
      "metadata": {
        "id": "st0M9jyUb2oP"
      },
      "source": [
        ""
      ],
      "execution_count": null,
      "outputs": []
    },
    {
      "cell_type": "markdown",
      "metadata": {
        "id": "l6groKFPl2qP"
      },
      "source": [
        "##Dataset Attributes\n",
        "\n",
        "\n",
        "\n",
        "1.   age: continuous variable\n",
        "2.   workclass: categorical variable\n",
        "3. fnlwg: continuous variable\n",
        "4. education: categorical variable\n",
        "5. education_num: continuous variable\n",
        "6. marital status: categorical variable\n",
        "7. occupation: categorical variable\n",
        "8. relationship: categorical variable\n",
        "9. race: categorical variable\n",
        "10. sex: categorical variable\n",
        "11. capital_gain: continuous variable\n",
        "12. capital_loss: continuous variable\n",
        "13. hours_per_week: continuous variable\n",
        "14. native-country: categorical variable\n",
        "\n",
        "\n"
      ]
    },
    {
      "cell_type": "markdown",
      "metadata": {
        "id": "L4E3Ia5noSHI"
      },
      "source": [
        "#Load the Dataset"
      ]
    },
    {
      "cell_type": "code",
      "metadata": {
        "id": "5DTYCFSXroXP"
      },
      "source": [
        ""
      ],
      "execution_count": null,
      "outputs": []
    },
    {
      "cell_type": "code",
      "metadata": {
        "colab": {
          "base_uri": "https://localhost:8080/",
          "height": 309
        },
        "id": "9she97DdmEPr",
        "outputId": "dd672033-5818-4aba-99f4-29e010042b45"
      },
      "source": [
        "columns_names= ['age','workclass','fnlwg','education','education_num','marital_status','occupation','relationship','race','sex','capital_gain','capital_loss','hours_per_week','country','target']\n",
        "data= pd.read_csv(\"adult_data.csv\", header= None, names=columns_names)\n",
        "data.head()"
      ],
      "execution_count": null,
      "outputs": [
        {
          "output_type": "execute_result",
          "data": {
            "text/html": [
              "<div>\n",
              "<style scoped>\n",
              "    .dataframe tbody tr th:only-of-type {\n",
              "        vertical-align: middle;\n",
              "    }\n",
              "\n",
              "    .dataframe tbody tr th {\n",
              "        vertical-align: top;\n",
              "    }\n",
              "\n",
              "    .dataframe thead th {\n",
              "        text-align: right;\n",
              "    }\n",
              "</style>\n",
              "<table border=\"1\" class=\"dataframe\">\n",
              "  <thead>\n",
              "    <tr style=\"text-align: right;\">\n",
              "      <th></th>\n",
              "      <th>age</th>\n",
              "      <th>workclass</th>\n",
              "      <th>fnlwg</th>\n",
              "      <th>education</th>\n",
              "      <th>education_num</th>\n",
              "      <th>marital_status</th>\n",
              "      <th>occupation</th>\n",
              "      <th>relationship</th>\n",
              "      <th>race</th>\n",
              "      <th>sex</th>\n",
              "      <th>capital_gain</th>\n",
              "      <th>capital_loss</th>\n",
              "      <th>hours_per_week</th>\n",
              "      <th>country</th>\n",
              "      <th>target</th>\n",
              "    </tr>\n",
              "  </thead>\n",
              "  <tbody>\n",
              "    <tr>\n",
              "      <th>0</th>\n",
              "      <td>39</td>\n",
              "      <td>State-gov</td>\n",
              "      <td>77516</td>\n",
              "      <td>Bachelors</td>\n",
              "      <td>13</td>\n",
              "      <td>Never-married</td>\n",
              "      <td>Adm-clerical</td>\n",
              "      <td>Not-in-family</td>\n",
              "      <td>White</td>\n",
              "      <td>Male</td>\n",
              "      <td>2174</td>\n",
              "      <td>0</td>\n",
              "      <td>40</td>\n",
              "      <td>United-States</td>\n",
              "      <td>&lt;=50K</td>\n",
              "    </tr>\n",
              "    <tr>\n",
              "      <th>1</th>\n",
              "      <td>50</td>\n",
              "      <td>Self-emp-not-inc</td>\n",
              "      <td>83311</td>\n",
              "      <td>Bachelors</td>\n",
              "      <td>13</td>\n",
              "      <td>Married-civ-spouse</td>\n",
              "      <td>Exec-managerial</td>\n",
              "      <td>Husband</td>\n",
              "      <td>White</td>\n",
              "      <td>Male</td>\n",
              "      <td>0</td>\n",
              "      <td>0</td>\n",
              "      <td>13</td>\n",
              "      <td>United-States</td>\n",
              "      <td>&lt;=50K</td>\n",
              "    </tr>\n",
              "    <tr>\n",
              "      <th>2</th>\n",
              "      <td>38</td>\n",
              "      <td>Private</td>\n",
              "      <td>215646</td>\n",
              "      <td>HS-grad</td>\n",
              "      <td>9</td>\n",
              "      <td>Divorced</td>\n",
              "      <td>Handlers-cleaners</td>\n",
              "      <td>Not-in-family</td>\n",
              "      <td>White</td>\n",
              "      <td>Male</td>\n",
              "      <td>0</td>\n",
              "      <td>0</td>\n",
              "      <td>40</td>\n",
              "      <td>United-States</td>\n",
              "      <td>&lt;=50K</td>\n",
              "    </tr>\n",
              "    <tr>\n",
              "      <th>3</th>\n",
              "      <td>53</td>\n",
              "      <td>Private</td>\n",
              "      <td>234721</td>\n",
              "      <td>11th</td>\n",
              "      <td>7</td>\n",
              "      <td>Married-civ-spouse</td>\n",
              "      <td>Handlers-cleaners</td>\n",
              "      <td>Husband</td>\n",
              "      <td>Black</td>\n",
              "      <td>Male</td>\n",
              "      <td>0</td>\n",
              "      <td>0</td>\n",
              "      <td>40</td>\n",
              "      <td>United-States</td>\n",
              "      <td>&lt;=50K</td>\n",
              "    </tr>\n",
              "    <tr>\n",
              "      <th>4</th>\n",
              "      <td>28</td>\n",
              "      <td>Private</td>\n",
              "      <td>338409</td>\n",
              "      <td>Bachelors</td>\n",
              "      <td>13</td>\n",
              "      <td>Married-civ-spouse</td>\n",
              "      <td>Prof-specialty</td>\n",
              "      <td>Wife</td>\n",
              "      <td>Black</td>\n",
              "      <td>Female</td>\n",
              "      <td>0</td>\n",
              "      <td>0</td>\n",
              "      <td>40</td>\n",
              "      <td>Cuba</td>\n",
              "      <td>&lt;=50K</td>\n",
              "    </tr>\n",
              "  </tbody>\n",
              "</table>\n",
              "</div>"
            ],
            "text/plain": [
              "   age          workclass   fnlwg  ... hours_per_week         country  target\n",
              "0   39          State-gov   77516  ...             40   United-States   <=50K\n",
              "1   50   Self-emp-not-inc   83311  ...             13   United-States   <=50K\n",
              "2   38            Private  215646  ...             40   United-States   <=50K\n",
              "3   53            Private  234721  ...             40   United-States   <=50K\n",
              "4   28            Private  338409  ...             40            Cuba   <=50K\n",
              "\n",
              "[5 rows x 15 columns]"
            ]
          },
          "metadata": {},
          "execution_count": 2
        }
      ]
    },
    {
      "cell_type": "markdown",
      "metadata": {
        "id": "HFH3bxomtCEK"
      },
      "source": [
        "#Describe the Dataset"
      ]
    },
    {
      "cell_type": "code",
      "metadata": {
        "colab": {
          "base_uri": "https://localhost:8080/",
          "height": 297
        },
        "id": "NpUoFpdTtD6h",
        "outputId": "1adbefba-b9be-430c-b34e-db82d159469b"
      },
      "source": [
        "data.describe()"
      ],
      "execution_count": null,
      "outputs": [
        {
          "output_type": "execute_result",
          "data": {
            "text/html": [
              "<div>\n",
              "<style scoped>\n",
              "    .dataframe tbody tr th:only-of-type {\n",
              "        vertical-align: middle;\n",
              "    }\n",
              "\n",
              "    .dataframe tbody tr th {\n",
              "        vertical-align: top;\n",
              "    }\n",
              "\n",
              "    .dataframe thead th {\n",
              "        text-align: right;\n",
              "    }\n",
              "</style>\n",
              "<table border=\"1\" class=\"dataframe\">\n",
              "  <thead>\n",
              "    <tr style=\"text-align: right;\">\n",
              "      <th></th>\n",
              "      <th>age</th>\n",
              "      <th>fnlwg</th>\n",
              "      <th>education_num</th>\n",
              "      <th>capital_gain</th>\n",
              "      <th>capital_loss</th>\n",
              "      <th>hours_per_week</th>\n",
              "    </tr>\n",
              "  </thead>\n",
              "  <tbody>\n",
              "    <tr>\n",
              "      <th>count</th>\n",
              "      <td>32561.000000</td>\n",
              "      <td>3.256100e+04</td>\n",
              "      <td>32561.000000</td>\n",
              "      <td>32561.000000</td>\n",
              "      <td>32561.000000</td>\n",
              "      <td>32561.000000</td>\n",
              "    </tr>\n",
              "    <tr>\n",
              "      <th>mean</th>\n",
              "      <td>38.581647</td>\n",
              "      <td>1.897784e+05</td>\n",
              "      <td>10.080679</td>\n",
              "      <td>1077.648844</td>\n",
              "      <td>87.303830</td>\n",
              "      <td>40.437456</td>\n",
              "    </tr>\n",
              "    <tr>\n",
              "      <th>std</th>\n",
              "      <td>13.640433</td>\n",
              "      <td>1.055500e+05</td>\n",
              "      <td>2.572720</td>\n",
              "      <td>7385.292085</td>\n",
              "      <td>402.960219</td>\n",
              "      <td>12.347429</td>\n",
              "    </tr>\n",
              "    <tr>\n",
              "      <th>min</th>\n",
              "      <td>17.000000</td>\n",
              "      <td>1.228500e+04</td>\n",
              "      <td>1.000000</td>\n",
              "      <td>0.000000</td>\n",
              "      <td>0.000000</td>\n",
              "      <td>1.000000</td>\n",
              "    </tr>\n",
              "    <tr>\n",
              "      <th>25%</th>\n",
              "      <td>28.000000</td>\n",
              "      <td>1.178270e+05</td>\n",
              "      <td>9.000000</td>\n",
              "      <td>0.000000</td>\n",
              "      <td>0.000000</td>\n",
              "      <td>40.000000</td>\n",
              "    </tr>\n",
              "    <tr>\n",
              "      <th>50%</th>\n",
              "      <td>37.000000</td>\n",
              "      <td>1.783560e+05</td>\n",
              "      <td>10.000000</td>\n",
              "      <td>0.000000</td>\n",
              "      <td>0.000000</td>\n",
              "      <td>40.000000</td>\n",
              "    </tr>\n",
              "    <tr>\n",
              "      <th>75%</th>\n",
              "      <td>48.000000</td>\n",
              "      <td>2.370510e+05</td>\n",
              "      <td>12.000000</td>\n",
              "      <td>0.000000</td>\n",
              "      <td>0.000000</td>\n",
              "      <td>45.000000</td>\n",
              "    </tr>\n",
              "    <tr>\n",
              "      <th>max</th>\n",
              "      <td>90.000000</td>\n",
              "      <td>1.484705e+06</td>\n",
              "      <td>16.000000</td>\n",
              "      <td>99999.000000</td>\n",
              "      <td>4356.000000</td>\n",
              "      <td>99.000000</td>\n",
              "    </tr>\n",
              "  </tbody>\n",
              "</table>\n",
              "</div>"
            ],
            "text/plain": [
              "                age         fnlwg  ...  capital_loss  hours_per_week\n",
              "count  32561.000000  3.256100e+04  ...  32561.000000    32561.000000\n",
              "mean      38.581647  1.897784e+05  ...     87.303830       40.437456\n",
              "std       13.640433  1.055500e+05  ...    402.960219       12.347429\n",
              "min       17.000000  1.228500e+04  ...      0.000000        1.000000\n",
              "25%       28.000000  1.178270e+05  ...      0.000000       40.000000\n",
              "50%       37.000000  1.783560e+05  ...      0.000000       40.000000\n",
              "75%       48.000000  2.370510e+05  ...      0.000000       45.000000\n",
              "max       90.000000  1.484705e+06  ...   4356.000000       99.000000\n",
              "\n",
              "[8 rows x 6 columns]"
            ]
          },
          "metadata": {},
          "execution_count": 3
        }
      ]
    },
    {
      "cell_type": "markdown",
      "metadata": {
        "id": "JoptH3Psu8Ur"
      },
      "source": [
        "##Which ones are categorical and which are numerical?"
      ]
    },
    {
      "cell_type": "code",
      "metadata": {
        "colab": {
          "base_uri": "https://localhost:8080/"
        },
        "id": "Pohj3gGCtJtW",
        "outputId": "610a5eb5-98c9-4e5c-979d-badd5c427749"
      },
      "source": [
        "data.info()"
      ],
      "execution_count": null,
      "outputs": [
        {
          "output_type": "stream",
          "name": "stdout",
          "text": [
            "<class 'pandas.core.frame.DataFrame'>\n",
            "RangeIndex: 32561 entries, 0 to 32560\n",
            "Data columns (total 15 columns):\n",
            " #   Column          Non-Null Count  Dtype \n",
            "---  ------          --------------  ----- \n",
            " 0   age             32561 non-null  int64 \n",
            " 1   workclass       32561 non-null  object\n",
            " 2   fnlwg           32561 non-null  int64 \n",
            " 3   education       32561 non-null  object\n",
            " 4   education_num   32561 non-null  int64 \n",
            " 5   marital_status  32561 non-null  object\n",
            " 6   occupation      32561 non-null  object\n",
            " 7   relationship    32561 non-null  object\n",
            " 8   race            32561 non-null  object\n",
            " 9   sex             32561 non-null  object\n",
            " 10  capital_gain    32561 non-null  int64 \n",
            " 11  capital_loss    32561 non-null  int64 \n",
            " 12  hours_per_week  32561 non-null  int64 \n",
            " 13  country         32561 non-null  object\n",
            " 14  target          32561 non-null  object\n",
            "dtypes: int64(6), object(9)\n",
            "memory usage: 3.7+ MB\n"
          ]
        }
      ]
    },
    {
      "cell_type": "code",
      "metadata": {
        "colab": {
          "base_uri": "https://localhost:8080/"
        },
        "id": "JoV_3Mket31G",
        "outputId": "49b12e30-c9a4-411d-ba6c-f38219887dd0"
      },
      "source": [
        "print(f'dataset shape is {data.shape}')"
      ],
      "execution_count": null,
      "outputs": [
        {
          "output_type": "stream",
          "name": "stdout",
          "text": [
            "dataset shape is (32561, 15)\n"
          ]
        }
      ]
    },
    {
      "cell_type": "markdown",
      "metadata": {
        "id": "RtUt7IUvvMHY"
      },
      "source": [
        "##Data Exploration"
      ]
    },
    {
      "cell_type": "code",
      "metadata": {
        "colab": {
          "base_uri": "https://localhost:8080/",
          "height": 296
        },
        "id": "ZU3I6AZtvOMd",
        "outputId": "6b775a44-21f5-42af-f655-bd52304ed530"
      },
      "source": [
        "## Is the dataset balanced?\n",
        "\n",
        "sns.countplot(x= 'target', data= data)\n"
      ],
      "execution_count": null,
      "outputs": [
        {
          "output_type": "execute_result",
          "data": {
            "text/plain": [
              "<matplotlib.axes._subplots.AxesSubplot at 0x7f1a72e39390>"
            ]
          },
          "metadata": {},
          "execution_count": 6
        },
        {
          "output_type": "display_data",
          "data": {
            "image/png": "[encoded data removed]",
            "text/plain": [
              "<Figure size 432x288 with 1 Axes>"
            ]
          },
          "metadata": {
            "needs_background": "light"
          }
        }
      ]
    },
    {
      "cell_type": "markdown",
      "metadata": {
        "id": "TbvB2GBv2uxJ"
      },
      "source": [
        "##What is a decision tree?"
      ]
    },
    {
      "cell_type": "markdown",
      "metadata": {
        "id": "dFLe0_sB2195"
      },
      "source": [
        "\n",
        "\n",
        "*   We want to make a decision based on Questions & Answers\n",
        "*   Just like in real life!\n",
        "\n"
      ]
    },
    {
      "cell_type": "markdown",
      "metadata": {
        "id": "Qis7KRir6VjW"
      },
      "source": [
        "##Entropy Implementation"
      ]
    },
    {
      "cell_type": "code",
      "metadata": {
        "id": "J4yPkI-xvflk"
      },
      "source": [
        "def entropy(class_y):\n",
        "    \"\"\"\n",
        "    Input:\n",
        "      class_y: list of class labels (0's and 1's)\n",
        "\n",
        "    Output:\n",
        "      The entropy\n",
        "\n",
        "    Compute the entropy for a list of classes.\n",
        "\n",
        "    \"\"\" \n",
        "    if len(class_y) <=1:  ## Handling if there is only 1 or 0 labels \n",
        "        return 0 \n",
        "\n",
        "    total_count= np.bincount(class_y) # count\n",
        "    probabilities= total_count[np.nonzero(total_count)]/ len(class_y) # Find the probabilities\n",
        "    if len(probabilities)<=1: # Handling if the length of the probabilities is less than or equal to 1\n",
        "        return 0\n",
        "\n",
        "    return - np.sum(probabilities * np.log(probabilities)) / np.log(len(probabilities))   # Entropy equation\n"
      ],
      "execution_count": null,
      "outputs": []
    },
    {
      "cell_type": "markdown",
      "metadata": {
        "id": "mURkIg_z7xXI"
      },
      "source": [
        "#Information Gain"
      ]
    },
    {
      "cell_type": "code",
      "metadata": {
        "id": "o86yoBGb9GKV"
      },
      "source": [
        "def information_gain(previous_y, current_y):\n",
        "    \"\"\"\n",
        "    Inputs:\n",
        "      - previous_y: the distribution of ORIGINAL labels (0's and 1's)\n",
        "      - current_y: the distribution of labels AFTER splitting based on a particular split attribute and split value\n",
        "\n",
        "    Outputs:\n",
        "      - info_gain: the information gain after partitioning\n",
        "\n",
        "    Compute and return the information gain from partitioning the previous_y labels into the current_y labels.\n",
        "\n",
        "    \"\"\"\n",
        "    conditional_entropy = 0 ## IG = H(Y) - CE(Y|X)  Info_gain = entropy of y MINUS the conditional entropy of y given x\n",
        "    for y in current_y:\n",
        "      conditional_entropy += (entropy(y) * len(y) / len(previous_y))\n",
        "    \n",
        "    info_gain = entropy(previous_y) - conditional_entropy\n",
        "    return info_gain"
      ],
      "execution_count": null,
      "outputs": []
    },
    {
      "cell_type": "code",
      "metadata": {
        "id": "kY0wP_aa72AT"
      },
      "source": [
        ""
      ],
      "execution_count": null,
      "outputs": []
    },
    {
      "cell_type": "markdown",
      "metadata": {
        "id": "YGLkjbhvAxzZ"
      },
      "source": [
        "#Test the information gain and the entropy implementations"
      ]
    },
    {
      "cell_type": "code",
      "metadata": {
        "colab": {
          "base_uri": "https://localhost:8080/"
        },
        "id": "HGvrqZOrA6aa",
        "outputId": "0bc1bed2-0cd8-4db1-ffa8-1d5cdec19fb4"
      },
      "source": [
        "# TEST CASE\n",
        "test_class_y = [0,0,0,1,1,1,1,1]\n",
        "print(entropy(test_class_y))\n",
        "\n",
        "previous_y = [0,0,0,1,1,1]\n",
        "current_y = [[0,0] , [1,1,1,0]]\n",
        "print(information_gain(previous_y , current_y))"
      ],
      "execution_count": null,
      "outputs": [
        {
          "output_type": "stream",
          "name": "stdout",
          "text": [
            "0.954434002924965\n",
            "0.4591479170272448\n"
          ]
        }
      ]
    },
    {
      "cell_type": "markdown",
      "metadata": {
        "id": "vUUQ3MUVFwcY"
      },
      "source": [
        "#The Decision Tree ID3 Algorithm"
      ]
    },
    {
      "cell_type": "markdown",
      "metadata": {
        "id": "oHsci4k5F6Me"
      },
      "source": [
        "####**Iterative Dichotomiser**\n",
        "\n",
        "1. Find best feature\n",
        "2. Find best split for the best feature\n",
        "3. Partition classes based on steps 1 and 2"
      ]
    },
    {
      "cell_type": "markdown",
      "metadata": {
        "id": "Tq0mpmP-GeGk"
      },
      "source": [
        "#Step 3: Partition Classes\n",
        "\n",
        "- One of the basic operations is to split a tree based on one attribute- step 1- with a specific value for that attribute- step 2.\n",
        "\n",
        "- We also need to take into consideration if the split attribute is either numerical or categorical."
      ]
    },
    {
      "cell_type": "code",
      "metadata": {
        "id": "rTEVUqhkJ418"
      },
      "source": [
        "def partition_classes(x, y, split_attribute, split_val):\n",
        "  \"\"\"\n",
        "  Inputs:\n",
        "  - x               -  (N,D) list containing all data attributes\n",
        "  - y               -   a list of labels\n",
        "  - split_attribute -  column index of the attribute to split on\n",
        "   -split_val       -   either a numerical or categorical value to divide the split_attribute\n",
        "\n",
        "   Outputs:\n",
        "   - x_left  - x left after partitioning\n",
        "   - x_right - x right after partitioning\n",
        "   - y_left  - y left after partitioning\n",
        "   - y_right - y right after partitioning\n",
        "\n",
        "   Partition the data (x) and labels (y) based on the split value.\n",
        "  \n",
        "   Example:\n",
        "   x = [[3, 'aa', 10],          y=[1,\n",
        "        [1, 'bb', 22],             1,\n",
        "        [2, 'cc', 28],             0,\n",
        "        [5, 'bb', 32],             0,\n",
        "        [4, 'cc', 32]]             1]\n",
        "\n",
        "   Here, columns 0 and 2 represent numeric attributes, while column 1 is a categorical attribute.\n",
        "\n",
        "   Consider the case where we call the function with split_attribute = 0 (the index of attribute) and split_val = 3.\n",
        "   Then we divide x into 2 lists - x_left, where column 0 is <=3, and x_right, where column 0 is > 3\n",
        "\n",
        "   x_left =  [[3, 'aa', 10],          y_left=[1,\n",
        "              [1, 'bb', 22],                  1,\n",
        "              [2, 'cc', 28]]                  0]\n",
        "    \n",
        "\n",
        "  x_right = [[5, 'bb', 32],           y_right= [0,\n",
        "             [4, 'cc', 32]]                     1]\n",
        "\n",
        "  Consider the case where we call the function with split_attribute = 1 and split_val = 'bb'.\n",
        "  Then we divide x into 2 lists, one where column 1 is 'bb' and the other where it is not 'bb'.\n",
        "\n",
        "  x_left = [[1, 'bb', 22],           y_left = [1,\n",
        "            [5, 'bb', 32]]                     0]\n",
        "\n",
        "  x_right = [[3, 'aa', 10],          y_right = [1,\n",
        "             [2, 'cc', 28],                     0,\n",
        "             [4, 'cc', 32]]                     1]\n",
        "\n",
        "  \n",
        "  \"\"\"\n",
        "  x = np.array(x)\n",
        "  column_split = x[:, split_attribute]\n",
        "  x_left = []\n",
        "  y_right = []\n",
        "  x_right = []\n",
        "  y_left = []\n",
        "\n",
        "  counter= 0 ##counter for appending\n",
        "\n",
        "  if isinstance(split_val, str) == False: ## Numerical attribute\n",
        "      for i in column_split:\n",
        "          if i <= split_val:\n",
        "              x_left.append(x[counter])\n",
        "              y_left.append(y[counter])\n",
        "          else:\n",
        "              x_right.append(x[counter])\n",
        "              y_right.append(y[counter])\n",
        "          counter+=1\n",
        "\n",
        "  else:   ## Categorical attribute\n",
        "      for i in column_split:\n",
        "        if i == split_val: ## == and NOT <=\n",
        "            x_left.append(x[counter])\n",
        "            y_left.append(y[counter])\n",
        "        else:\n",
        "            x_right.append(x[counter])\n",
        "            y_right.append(y[counter])\n",
        "        counter+=1\n",
        "\n",
        "  return x_left, x_right, y_left, y_right\n",
        "\n",
        "        \n"
      ],
      "execution_count": null,
      "outputs": []
    },
    {
      "cell_type": "markdown",
      "metadata": {
        "id": "qymipoQ9KfDT"
      },
      "source": [
        "#Step 2: Find the Best Split"
      ]
    },
    {
      "cell_type": "markdown",
      "metadata": {
        "id": "axmenCV7Q5Q9"
      },
      "source": [
        "\n",
        "\n",
        "*   In this step we find the *order* of features splitting.\n",
        "*   To do so, we calculate the information gain of each value in the attribute list.\n",
        "\n",
        "*   Then we find the optimal split value. This corresponds to the one with the highest information gain.\n",
        "\n",
        "\n",
        "\n"
      ]
    },
    {
      "cell_type": "code",
      "metadata": {
        "id": "AtXYgiJdA4uW"
      },
      "source": [
        "def find_best_split(x, y, split_attribute):\n",
        "    \"\"\"\n",
        "    Inputs:\n",
        "    - x               :  (N,D) list containing all data attributes\n",
        "    - y               :   a list array of labels\n",
        "    - split_attribute :  column of x on which to split\n",
        "\n",
        "    Outputs:\n",
        "    - best_split_val : optimal split value for a given attribute\n",
        "    - best_info_gain : the corresponding information gain\n",
        "\n",
        "    Compute and return the optimal split value for a given attribute, along with the corresponding information gain.\n",
        "   \n",
        "    Example:\n",
        "    x = [[3, 'aa', 10],          y=[1,\n",
        "         [1, 'bb', 22],             1,\n",
        "         [2, 'cc', 28],             0,\n",
        "         [5, 'bb', 32],             0,\n",
        "         [4, 'cc', 32]]             1]\n",
        "\n",
        "    split_attribute = 0\n",
        "\n",
        "    Starting entropy = 0.971\n",
        "\n",
        "    Calculate information gain at splits:\n",
        "      split_val = 1 --> info_gain = 0.17\n",
        "      split_val = 2 --> info_gain = 0.01997\n",
        "      split_val = 3 --> info_gain = 0.01997\n",
        "      split_val = 4 --> info_gain = 0.32\n",
        "      split_val = 5 --> info_gain = 0\n",
        "\n",
        "    best_split_val = 4 ; info_gain = .32\n",
        "    \"\"\"\n",
        "\n",
        "    best_info_gain = 0  ## Initialize the best information gain\n",
        "    x = np.array(x)\n",
        "    column_split = x[:, split_attribute]\n",
        "\n",
        "    column_split = np.unique(column_split)  ## Get the unique values only!\n",
        "    best_split_val = column_split[0]  ## Set the best split as the initial one (in case it is the only one)\n",
        "\n",
        "    for split_val in column_split:\n",
        "        current_x_left, current_x_right, current_y_left, current_y_right = partition_classes(x, y, split_attribute, split_val)\n",
        "        current_y = []\n",
        "        current_y.append(current_y_left)\n",
        "        current_y.append(current_y_right)\n",
        "\n",
        "        current_info_gain = information_gain(y, current_y)  ## Calculate the information gain\n",
        "        if current_info_gain > best_info_gain:  ## check if it is better than before\n",
        "          best_info_gain = current_info_gain\n",
        "          best_split_val = split_val\n",
        "\n",
        "    return best_split_val, best_info_gain\n",
        "\n",
        "\n",
        "\n"
      ],
      "execution_count": null,
      "outputs": []
    },
    {
      "cell_type": "markdown",
      "metadata": {
        "id": "SdGFcQfzd0Ur"
      },
      "source": [
        "#Step 1: Find Best Feature"
      ]
    },
    {
      "cell_type": "markdown",
      "metadata": {
        "id": "9exku-TTd70A"
      },
      "source": [
        "We use steps 2 and 3 to find the best feature."
      ]
    },
    {
      "cell_type": "code",
      "metadata": {
        "id": "jzf9elEneXqI"
      },
      "source": [
        "def find_best_feature(x, y):\n",
        "    \"\"\"\n",
        "    Inputs:\n",
        "    - x               :  (N,D) list containing all data attributes\n",
        "    - y               :   a list of labels\n",
        "\n",
        "    Outputs:\n",
        "    - best_feature   : best feature to split on\n",
        "    - best_split_val : best split value for this feature\n",
        "\n",
        "    Compute and return the optimal attribute to split on and optimal splitting value.\n",
        "   \n",
        "    Example:\n",
        "    x = [[3, 'aa', 10],          y=[1,\n",
        "         [1, 'bb', 22],             1,\n",
        "         [2, 'cc', 28],             0,\n",
        "         [5, 'bb', 32],             0,\n",
        "         [4, 'cc', 32]]             1]\n",
        "\n",
        "\n",
        "    Starting entropy = 0.971\n",
        "\n",
        "    Calculate information gain at splits:\n",
        "      feature 0: --> info_gain = 0.32\n",
        "      feature 1: --> info_gain = 0.17\n",
        "      feature 2: --> info_gain = 0.4199\n",
        "\n",
        "    best_split_feature = 2 ; best_split_val = 22\n",
        "    \"\"\"\n",
        "\n",
        "    best_info_gain = 0\n",
        "    best_feature   = 0\n",
        "    best_split_val = 0\n",
        "    for feature_index in range(len(x[0])):  ## Loop over the features, find the best split.\n",
        "        current_best_split_val, current_best_info_gain = find_best_split(x, y, feature_index)\n",
        "        if current_best_info_gain > best_info_gain:\n",
        "            best_info_gain = current_best_info_gain\n",
        "            best_feature = feature_index\n",
        "            best_split_val = current_best_split_val\n",
        "    return best_feature, best_split_val       "
      ],
      "execution_count": null,
      "outputs": []
    },
    {
      "cell_type": "markdown",
      "metadata": {
        "id": "WtSp0h6JVuTB"
      },
      "source": [
        "#Decision Tree ID3 Full Algorithm : Putting Everything Together"
      ]
    },
    {
      "cell_type": "markdown",
      "metadata": {
        "id": "rY3ojXSsXScS"
      },
      "source": [
        "We will use a recursive algorithm, so we need to have a base case- a stopping condition for splitting. It can be one of the following:\n",
        "\n",
        "\n",
        "*   If all data points in that node have the same label\n",
        "*   If the current node is at the maximum depth. In this case you may assign the node of the labels as the class label\n",
        "\n",
        "We are going to use a dictionary to store the tree information. It will contain the class labels, feature and value to split, and reference to the left and right children.\n",
        "\n"
      ]
    },
    {
      "cell_type": "code",
      "metadata": {
        "id": "gOmwNzFqNYbO"
      },
      "source": [
        "class MyDecisionTree(object):\n",
        "    def __init__(self, max_depth=None):\n",
        "        \"\"\"\n",
        "\n",
        "        Args:\n",
        "\n",
        "        max_depth: maximum depth of the tree including the root node.\n",
        "        \"\"\"\n",
        "        self.tree = {}\n",
        "        self.residual_tree = {}  ## For prediction\n",
        "        self.max_depth = max_depth\n",
        "\n",
        "    def fit (self, x, y, depth):  \n",
        "        \"\"\"\n",
        "        Args:\n",
        "        x    : N*D matrix corresponding to the data points.\n",
        "        y    : N*1 array corresponding to the labels of the data points.\n",
        "        depth: depth of node of the tree.\n",
        "\n",
        "        Output:\n",
        "        node : a dictionary that contains this node information. \n",
        "        \"\"\"\n",
        "\n",
        "        ## base cases\n",
        "        unique_labels = np.unique(y)\n",
        "        if (len(unique_labels)==1) or (depth == max_depth): ## If we reach the maximum depth or 1\n",
        "            unique_labels, counts_unique_labels = np.unique (y, return_counts=True)\n",
        "            index = counts_unique_labels.argmax()\n",
        "            classification = unique_labels[index]\n",
        "            return classification\n",
        "\n",
        "        best_feat, best_split = find_best_feature (x, y)  ## Find best feature (Step 1)\n",
        "        x_left, x_right, y_left, y_right = partition_classes (x, y, best_feat, best_split) ## Partition on the best feature\n",
        "\n",
        "        if isinstance (best_split, str):\n",
        "            question = \"{} == {}\".format(best_feat, best_split) ## Represent the subtree as a question and an answer\n",
        "        else:\n",
        "            question = \"{} <= {}\".format(best_feat, best_split) ## Represent the subtree as a question and an answer\n",
        "        node = {question: []}\n",
        "\n",
        "        ## find answers (recursion)\n",
        "        depth+=1\n",
        "        yes_answer = self.fit(x_left, y_left, depth)  ## RECURSION on the left subtree  \n",
        "        no_answer =  self.fit(x_right, y_right, depth) ## RECURSION on the right subtree \n",
        "\n",
        "        if yes_answer == no_answer: ## Both trees are the same\n",
        "            node = yes_answer\n",
        "        else:\n",
        "            node[question].append(yes_answer) ## Append the questions to the answers\n",
        "            node[question].append(no_answer)  \n",
        "        self.tree = node ## The tree is equal to the node\n",
        "        return node \n",
        "    def predict(self, record, flag=1):\n",
        "        \"\"\"\n",
        "        Args:\n",
        "\n",
        "        record: D*1, a single data point that should be classified.\n",
        "\n",
        "        Output:\n",
        "        prediction: True if the predicted class label is 1, False otherwise\n",
        "\n",
        "        classify a sample in test dataset using self.tree and return the predicted label\n",
        "        \"\"\"\n",
        "        if flag == 1: ## First time\n",
        "            self.residual_tree = self.tree\n",
        "        question = list(self.residual_tree.keys())[0]\n",
        "        feature, comparison, value = question.split() \n",
        "\n",
        "        ## Check if str or int\n",
        "        if comparison == \"==\": # String\n",
        "            if record[int(feature)] == value:\n",
        "                answer = self.residual_tree[question][0] ## Left subtree\n",
        "            else:\n",
        "                answer = self.residual_tree[question][1] ## Right subtree\n",
        "        elif comparison == \"<=\": # Integer\n",
        "            if record[int(feature)] <= float(value):\n",
        "                answer = self.residual_tree[question][0] ## Right subtree\n",
        "            else:\n",
        "                answer = self.residual_tree[question][1] ## Left subtree\n",
        "\n",
        "        # base case\n",
        "        if not isinstance(answer, dict): ## If we have the answer\n",
        "            return answer\n",
        "\n",
        "        #recursion\n",
        "        else:\n",
        "            self.residual_tree = answer ## The residual tree is the answer\n",
        "            return self.predict(record, 0) ## have flag=0 so the residual tree is our sub-problem                                                                 "
      ],
      "execution_count": null,
      "outputs": []
    },
    {
      "cell_type": "markdown",
      "metadata": {
        "id": "R8kIxbDse8Xo"
      },
      "source": [
        "# Evaluate the ID3 implementation"
      ]
    },
    {
      "cell_type": "code",
      "metadata": {
        "id": "721ZF7nO2ToO"
      },
      "source": [
        "def DecisionTreeEvaluation(id3, x, y, verbose=False):\n",
        "\n",
        "    y_predicted = []\n",
        "    for record in x:\n",
        "        y_predicted.append(id3.predict(record))\n",
        "    # Comparing predicted and true labels\n",
        "    results = [prediction == truth for prediction, truth in zip(y_predicted, y)] \n",
        "    # Accuracy\n",
        "    accuracy = float(results.count(True)) / float(len(results))\n",
        "    if verbose:\n",
        "        print(\"accuracy: %.4f\" % accuracy)\n",
        "    return accuracy       "
      ],
      "execution_count": null,
      "outputs": []
    },
    {
      "cell_type": "code",
      "metadata": {
        "colab": {
          "base_uri": "https://localhost:8080/",
          "height": 309
        },
        "id": "mS3_LzpU5zjI",
        "outputId": "81b086fb-72a6-4478-98c2-afd5aa58af3d"
      },
      "source": [
        "columns_names= ['age','workclass','fnlwg','education','education_num','marital_status','occupation','relationship','race','sex','capital_gain','capital_loss','hours_per_week','country','target']\n",
        "df_train = pd.read_csv(\"adult_data.csv\", header=None, names = columns_names)\n",
        "df_train.drop(columns = \"fnlwg\", inplace=True)\n",
        "df_train.head()\n",
        "                      \n"
      ],
      "execution_count": null,
      "outputs": [
        {
          "output_type": "execute_result",
          "data": {
            "text/html": [
              "<div>\n",
              "<style scoped>\n",
              "    .dataframe tbody tr th:only-of-type {\n",
              "        vertical-align: middle;\n",
              "    }\n",
              "\n",
              "    .dataframe tbody tr th {\n",
              "        vertical-align: top;\n",
              "    }\n",
              "\n",
              "    .dataframe thead th {\n",
              "        text-align: right;\n",
              "    }\n",
              "</style>\n",
              "<table border=\"1\" class=\"dataframe\">\n",
              "  <thead>\n",
              "    <tr style=\"text-align: right;\">\n",
              "      <th></th>\n",
              "      <th>age</th>\n",
              "      <th>workclass</th>\n",
              "      <th>education</th>\n",
              "      <th>education_num</th>\n",
              "      <th>marital_status</th>\n",
              "      <th>occupation</th>\n",
              "      <th>relationship</th>\n",
              "      <th>race</th>\n",
              "      <th>sex</th>\n",
              "      <th>capital_gain</th>\n",
              "      <th>capital_loss</th>\n",
              "      <th>hours_per_week</th>\n",
              "      <th>country</th>\n",
              "      <th>target</th>\n",
              "    </tr>\n",
              "  </thead>\n",
              "  <tbody>\n",
              "    <tr>\n",
              "      <th>0</th>\n",
              "      <td>39</td>\n",
              "      <td>State-gov</td>\n",
              "      <td>Bachelors</td>\n",
              "      <td>13</td>\n",
              "      <td>Never-married</td>\n",
              "      <td>Adm-clerical</td>\n",
              "      <td>Not-in-family</td>\n",
              "      <td>White</td>\n",
              "      <td>Male</td>\n",
              "      <td>2174</td>\n",
              "      <td>0</td>\n",
              "      <td>40</td>\n",
              "      <td>United-States</td>\n",
              "      <td>&lt;=50K</td>\n",
              "    </tr>\n",
              "    <tr>\n",
              "      <th>1</th>\n",
              "      <td>50</td>\n",
              "      <td>Self-emp-not-inc</td>\n",
              "      <td>Bachelors</td>\n",
              "      <td>13</td>\n",
              "      <td>Married-civ-spouse</td>\n",
              "      <td>Exec-managerial</td>\n",
              "      <td>Husband</td>\n",
              "      <td>White</td>\n",
              "      <td>Male</td>\n",
              "      <td>0</td>\n",
              "      <td>0</td>\n",
              "      <td>13</td>\n",
              "      <td>United-States</td>\n",
              "      <td>&lt;=50K</td>\n",
              "    </tr>\n",
              "    <tr>\n",
              "      <th>2</th>\n",
              "      <td>38</td>\n",
              "      <td>Private</td>\n",
              "      <td>HS-grad</td>\n",
              "      <td>9</td>\n",
              "      <td>Divorced</td>\n",
              "      <td>Handlers-cleaners</td>\n",
              "      <td>Not-in-family</td>\n",
              "      <td>White</td>\n",
              "      <td>Male</td>\n",
              "      <td>0</td>\n",
              "      <td>0</td>\n",
              "      <td>40</td>\n",
              "      <td>United-States</td>\n",
              "      <td>&lt;=50K</td>\n",
              "    </tr>\n",
              "    <tr>\n",
              "      <th>3</th>\n",
              "      <td>53</td>\n",
              "      <td>Private</td>\n",
              "      <td>11th</td>\n",
              "      <td>7</td>\n",
              "      <td>Married-civ-spouse</td>\n",
              "      <td>Handlers-cleaners</td>\n",
              "      <td>Husband</td>\n",
              "      <td>Black</td>\n",
              "      <td>Male</td>\n",
              "      <td>0</td>\n",
              "      <td>0</td>\n",
              "      <td>40</td>\n",
              "      <td>United-States</td>\n",
              "      <td>&lt;=50K</td>\n",
              "    </tr>\n",
              "    <tr>\n",
              "      <th>4</th>\n",
              "      <td>28</td>\n",
              "      <td>Private</td>\n",
              "      <td>Bachelors</td>\n",
              "      <td>13</td>\n",
              "      <td>Married-civ-spouse</td>\n",
              "      <td>Prof-specialty</td>\n",
              "      <td>Wife</td>\n",
              "      <td>Black</td>\n",
              "      <td>Female</td>\n",
              "      <td>0</td>\n",
              "      <td>0</td>\n",
              "      <td>40</td>\n",
              "      <td>Cuba</td>\n",
              "      <td>&lt;=50K</td>\n",
              "    </tr>\n",
              "  </tbody>\n",
              "</table>\n",
              "</div>"
            ],
            "text/plain": [
              "   age          workclass   education  ...  hours_per_week         country  target\n",
              "0   39          State-gov   Bachelors  ...              40   United-States   <=50K\n",
              "1   50   Self-emp-not-inc   Bachelors  ...              13   United-States   <=50K\n",
              "2   38            Private     HS-grad  ...              40   United-States   <=50K\n",
              "3   53            Private        11th  ...              40   United-States   <=50K\n",
              "4   28            Private   Bachelors  ...              40            Cuba   <=50K\n",
              "\n",
              "[5 rows x 14 columns]"
            ]
          },
          "metadata": {},
          "execution_count": 15
        }
      ]
    },
    {
      "cell_type": "code",
      "metadata": {
        "colab": {
          "base_uri": "https://localhost:8080/",
          "height": 326
        },
        "id": "QP54_10z8PyA",
        "outputId": "0104618e-db13-4d6e-a80a-721ae2b9cb4d"
      },
      "source": [
        "columns_names= ['age','workclass','fnlwg','education','education_num','marital_status','occupation','relationship','race','sex','capital_gain','capital_loss','hours_per_week','country','target']\n",
        "df_test = pd.read_csv(\"adult_test.csv\", names = columns_names)\n",
        "df_test.drop(columns = \"fnlwg\", inplace=True)\n",
        "df_test.head()"
      ],
      "execution_count": null,
      "outputs": [
        {
          "output_type": "execute_result",
          "data": {
            "text/html": [
              "<div>\n",
              "<style scoped>\n",
              "    .dataframe tbody tr th:only-of-type {\n",
              "        vertical-align: middle;\n",
              "    }\n",
              "\n",
              "    .dataframe tbody tr th {\n",
              "        vertical-align: top;\n",
              "    }\n",
              "\n",
              "    .dataframe thead th {\n",
              "        text-align: right;\n",
              "    }\n",
              "</style>\n",
              "<table border=\"1\" class=\"dataframe\">\n",
              "  <thead>\n",
              "    <tr style=\"text-align: right;\">\n",
              "      <th></th>\n",
              "      <th>age</th>\n",
              "      <th>workclass</th>\n",
              "      <th>education</th>\n",
              "      <th>education_num</th>\n",
              "      <th>marital_status</th>\n",
              "      <th>occupation</th>\n",
              "      <th>relationship</th>\n",
              "      <th>race</th>\n",
              "      <th>sex</th>\n",
              "      <th>capital_gain</th>\n",
              "      <th>capital_loss</th>\n",
              "      <th>hours_per_week</th>\n",
              "      <th>country</th>\n",
              "      <th>target</th>\n",
              "    </tr>\n",
              "  </thead>\n",
              "  <tbody>\n",
              "    <tr>\n",
              "      <th>0</th>\n",
              "      <td>|1x3 Cross validator</td>\n",
              "      <td>NaN</td>\n",
              "      <td>NaN</td>\n",
              "      <td>NaN</td>\n",
              "      <td>NaN</td>\n",
              "      <td>NaN</td>\n",
              "      <td>NaN</td>\n",
              "      <td>NaN</td>\n",
              "      <td>NaN</td>\n",
              "      <td>NaN</td>\n",
              "      <td>NaN</td>\n",
              "      <td>NaN</td>\n",
              "      <td>NaN</td>\n",
              "      <td>NaN</td>\n",
              "    </tr>\n",
              "    <tr>\n",
              "      <th>1</th>\n",
              "      <td>25</td>\n",
              "      <td>Private</td>\n",
              "      <td>11th</td>\n",
              "      <td>7.0</td>\n",
              "      <td>Never-married</td>\n",
              "      <td>Machine-op-inspct</td>\n",
              "      <td>Own-child</td>\n",
              "      <td>Black</td>\n",
              "      <td>Male</td>\n",
              "      <td>0.0</td>\n",
              "      <td>0.0</td>\n",
              "      <td>40.0</td>\n",
              "      <td>United-States</td>\n",
              "      <td>&lt;=50K.</td>\n",
              "    </tr>\n",
              "    <tr>\n",
              "      <th>2</th>\n",
              "      <td>38</td>\n",
              "      <td>Private</td>\n",
              "      <td>HS-grad</td>\n",
              "      <td>9.0</td>\n",
              "      <td>Married-civ-spouse</td>\n",
              "      <td>Farming-fishing</td>\n",
              "      <td>Husband</td>\n",
              "      <td>White</td>\n",
              "      <td>Male</td>\n",
              "      <td>0.0</td>\n",
              "      <td>0.0</td>\n",
              "      <td>50.0</td>\n",
              "      <td>United-States</td>\n",
              "      <td>&lt;=50K.</td>\n",
              "    </tr>\n",
              "    <tr>\n",
              "      <th>3</th>\n",
              "      <td>28</td>\n",
              "      <td>Local-gov</td>\n",
              "      <td>Assoc-acdm</td>\n",
              "      <td>12.0</td>\n",
              "      <td>Married-civ-spouse</td>\n",
              "      <td>Protective-serv</td>\n",
              "      <td>Husband</td>\n",
              "      <td>White</td>\n",
              "      <td>Male</td>\n",
              "      <td>0.0</td>\n",
              "      <td>0.0</td>\n",
              "      <td>40.0</td>\n",
              "      <td>United-States</td>\n",
              "      <td>&gt;50K.</td>\n",
              "    </tr>\n",
              "    <tr>\n",
              "      <th>4</th>\n",
              "      <td>44</td>\n",
              "      <td>Private</td>\n",
              "      <td>Some-college</td>\n",
              "      <td>10.0</td>\n",
              "      <td>Married-civ-spouse</td>\n",
              "      <td>Machine-op-inspct</td>\n",
              "      <td>Husband</td>\n",
              "      <td>Black</td>\n",
              "      <td>Male</td>\n",
              "      <td>7688.0</td>\n",
              "      <td>0.0</td>\n",
              "      <td>40.0</td>\n",
              "      <td>United-States</td>\n",
              "      <td>&gt;50K.</td>\n",
              "    </tr>\n",
              "  </tbody>\n",
              "</table>\n",
              "</div>"
            ],
            "text/plain": [
              "                    age   workclass  ...         country   target\n",
              "0  |1x3 Cross validator         NaN  ...             NaN      NaN\n",
              "1                    25     Private  ...   United-States   <=50K.\n",
              "2                    38     Private  ...   United-States   <=50K.\n",
              "3                    28   Local-gov  ...   United-States    >50K.\n",
              "4                    44     Private  ...   United-States    >50K.\n",
              "\n",
              "[5 rows x 14 columns]"
            ]
          },
          "metadata": {},
          "execution_count": 16
        }
      ]
    },
    {
      "cell_type": "code",
      "metadata": {
        "colab": {
          "base_uri": "https://localhost:8080/",
          "height": 309
        },
        "id": "HT29PE3R9peO",
        "outputId": "0f4b43f0-a22b-49aa-e326-72ba0a2c347a"
      },
      "source": [
        "df_test = df_test.iloc[1:]\n",
        "df_test.head()"
      ],
      "execution_count": null,
      "outputs": [
        {
          "output_type": "execute_result",
          "data": {
            "text/html": [
              "<div>\n",
              "<style scoped>\n",
              "    .dataframe tbody tr th:only-of-type {\n",
              "        vertical-align: middle;\n",
              "    }\n",
              "\n",
              "    .dataframe tbody tr th {\n",
              "        vertical-align: top;\n",
              "    }\n",
              "\n",
              "    .dataframe thead th {\n",
              "        text-align: right;\n",
              "    }\n",
              "</style>\n",
              "<table border=\"1\" class=\"dataframe\">\n",
              "  <thead>\n",
              "    <tr style=\"text-align: right;\">\n",
              "      <th></th>\n",
              "      <th>age</th>\n",
              "      <th>workclass</th>\n",
              "      <th>education</th>\n",
              "      <th>education_num</th>\n",
              "      <th>marital_status</th>\n",
              "      <th>occupation</th>\n",
              "      <th>relationship</th>\n",
              "      <th>race</th>\n",
              "      <th>sex</th>\n",
              "      <th>capital_gain</th>\n",
              "      <th>capital_loss</th>\n",
              "      <th>hours_per_week</th>\n",
              "      <th>country</th>\n",
              "      <th>target</th>\n",
              "    </tr>\n",
              "  </thead>\n",
              "  <tbody>\n",
              "    <tr>\n",
              "      <th>1</th>\n",
              "      <td>25</td>\n",
              "      <td>Private</td>\n",
              "      <td>11th</td>\n",
              "      <td>7.0</td>\n",
              "      <td>Never-married</td>\n",
              "      <td>Machine-op-inspct</td>\n",
              "      <td>Own-child</td>\n",
              "      <td>Black</td>\n",
              "      <td>Male</td>\n",
              "      <td>0.0</td>\n",
              "      <td>0.0</td>\n",
              "      <td>40.0</td>\n",
              "      <td>United-States</td>\n",
              "      <td>&lt;=50K.</td>\n",
              "    </tr>\n",
              "    <tr>\n",
              "      <th>2</th>\n",
              "      <td>38</td>\n",
              "      <td>Private</td>\n",
              "      <td>HS-grad</td>\n",
              "      <td>9.0</td>\n",
              "      <td>Married-civ-spouse</td>\n",
              "      <td>Farming-fishing</td>\n",
              "      <td>Husband</td>\n",
              "      <td>White</td>\n",
              "      <td>Male</td>\n",
              "      <td>0.0</td>\n",
              "      <td>0.0</td>\n",
              "      <td>50.0</td>\n",
              "      <td>United-States</td>\n",
              "      <td>&lt;=50K.</td>\n",
              "    </tr>\n",
              "    <tr>\n",
              "      <th>3</th>\n",
              "      <td>28</td>\n",
              "      <td>Local-gov</td>\n",
              "      <td>Assoc-acdm</td>\n",
              "      <td>12.0</td>\n",
              "      <td>Married-civ-spouse</td>\n",
              "      <td>Protective-serv</td>\n",
              "      <td>Husband</td>\n",
              "      <td>White</td>\n",
              "      <td>Male</td>\n",
              "      <td>0.0</td>\n",
              "      <td>0.0</td>\n",
              "      <td>40.0</td>\n",
              "      <td>United-States</td>\n",
              "      <td>&gt;50K.</td>\n",
              "    </tr>\n",
              "    <tr>\n",
              "      <th>4</th>\n",
              "      <td>44</td>\n",
              "      <td>Private</td>\n",
              "      <td>Some-college</td>\n",
              "      <td>10.0</td>\n",
              "      <td>Married-civ-spouse</td>\n",
              "      <td>Machine-op-inspct</td>\n",
              "      <td>Husband</td>\n",
              "      <td>Black</td>\n",
              "      <td>Male</td>\n",
              "      <td>7688.0</td>\n",
              "      <td>0.0</td>\n",
              "      <td>40.0</td>\n",
              "      <td>United-States</td>\n",
              "      <td>&gt;50K.</td>\n",
              "    </tr>\n",
              "    <tr>\n",
              "      <th>5</th>\n",
              "      <td>18</td>\n",
              "      <td>?</td>\n",
              "      <td>Some-college</td>\n",
              "      <td>10.0</td>\n",
              "      <td>Never-married</td>\n",
              "      <td>?</td>\n",
              "      <td>Own-child</td>\n",
              "      <td>White</td>\n",
              "      <td>Female</td>\n",
              "      <td>0.0</td>\n",
              "      <td>0.0</td>\n",
              "      <td>30.0</td>\n",
              "      <td>United-States</td>\n",
              "      <td>&lt;=50K.</td>\n",
              "    </tr>\n",
              "  </tbody>\n",
              "</table>\n",
              "</div>"
            ],
            "text/plain": [
              "  age   workclass      education  ...  hours_per_week         country   target\n",
              "1  25     Private           11th  ...            40.0   United-States   <=50K.\n",
              "2  38     Private        HS-grad  ...            50.0   United-States   <=50K.\n",
              "3  28   Local-gov     Assoc-acdm  ...            40.0   United-States    >50K.\n",
              "4  44     Private   Some-college  ...            40.0   United-States    >50K.\n",
              "5  18           ?   Some-college  ...            30.0   United-States   <=50K.\n",
              "\n",
              "[5 rows x 14 columns]"
            ]
          },
          "metadata": {},
          "execution_count": 17
        }
      ]
    },
    {
      "cell_type": "code",
      "metadata": {
        "id": "vHdN71sEH2rW",
        "colab": {
          "base_uri": "https://localhost:8080/"
        },
        "outputId": "bb78a075-3a02-4665-a10b-7b98d4f9bce2"
      },
      "source": [
        "df_test[\"age\"] = pd.to_numeric(df_test[\"age\"])"
      ],
      "execution_count": null,
      "outputs": [
        {
          "output_type": "stream",
          "name": "stderr",
          "text": [
            "/usr/local/lib/python3.7/dist-packages/ipykernel_launcher.py:1: SettingWithCopyWarning: \n",
            "A value is trying to be set on a copy of a slice from a DataFrame.\n",
            "Try using .loc[row_indexer,col_indexer] = value instead\n",
            "\n",
            "See the caveats in the documentation: https://pandas.pydata.org/pandas-docs/stable/user_guide/indexing.html#returning-a-view-versus-a-copy\n",
            "  \"\"\"Entry point for launching an IPython kernel.\n"
          ]
        }
      ]
    },
    {
      "cell_type": "code",
      "metadata": {
        "colab": {
          "base_uri": "https://localhost:8080/"
        },
        "id": "Gfy9r3e89_6D",
        "outputId": "78aa163e-ddb2-4155-d41d-e142f4665864"
      },
      "source": [
        "x_train = df_train.iloc[:, :-1]\n",
        "y_train = df_train.iloc[:, -1]\n",
        "print(y_train.head())\n",
        "label_enc = LabelEncoder()\n",
        "y_train = label_enc.fit_transform(y_train)\n",
        "print(y_train)"
      ],
      "execution_count": null,
      "outputs": [
        {
          "output_type": "stream",
          "name": "stdout",
          "text": [
            "0     <=50K\n",
            "1     <=50K\n",
            "2     <=50K\n",
            "3     <=50K\n",
            "4     <=50K\n",
            "Name: target, dtype: object\n",
            "[0 0 0 ... 0 0 1]\n"
          ]
        }
      ]
    },
    {
      "cell_type": "code",
      "metadata": {
        "colab": {
          "base_uri": "https://localhost:8080/"
        },
        "id": "qAkNl_pD_KuN",
        "outputId": "2dfe55ad-8729-4e49-f018-5cbe04f1c007"
      },
      "source": [
        "x_test = df_test.iloc[:, :-1]\n",
        "y_test = df_test.iloc[:, -1]\n",
        "\n",
        "label_enc = LabelEncoder()\n",
        "y_test = label_enc.fit_transform(y_test)\n",
        "y_test"
      ],
      "execution_count": null,
      "outputs": [
        {
          "output_type": "execute_result",
          "data": {
            "text/plain": [
              "array([0, 0, 1, ..., 0, 0, 1])"
            ]
          },
          "metadata": {},
          "execution_count": 20
        }
      ]
    },
    {
      "cell_type": "code",
      "metadata": {
        "colab": {
          "base_uri": "https://localhost:8080/"
        },
        "id": "Hl-shk0KBAPR",
        "outputId": "6a380e98-9c2d-4d55-dbed-faaec2600141"
      },
      "source": [
        "### Convert the dataframes to numpy arrays as our implementation works on NumPy arrays\n",
        "x_train, x_test = x_train.to_numpy(), x_test.to_numpy()\n",
        "max_depth = 3\n",
        "initial_depth = 0\n",
        "id3_dt  = MyDecisionTree(max_depth)\n",
        "# Building a tree\n",
        "print(\"fitting the decision tree\")\n",
        "id3_dt.fit(x_train, y_train, initial_depth)\n",
        "\n",
        "# Evaluating the decision tree\n",
        "DecisionTreeEvaluation(id3_dt, x_test, y_test, True)\n",
        "\n"
      ],
      "execution_count": null,
      "outputs": [
        {
          "output_type": "stream",
          "name": "stdout",
          "text": [
            "fitting the decision tree\n",
            "accuracy: 0.8031\n"
          ]
        },
        {
          "output_type": "execute_result",
          "data": {
            "text/plain": [
              "0.8030833486886555"
            ]
          },
          "metadata": {},
          "execution_count": 21
        }
      ]
    },
    {
      "cell_type": "markdown",
      "metadata": {
        "id": "XwwwTlcEI_-0"
      },
      "source": [
        "##What is the final tree "
      ]
    },
    {
      "cell_type": "code",
      "metadata": {
        "colab": {
          "base_uri": "https://localhost:8080/"
        },
        "id": "lhMjrKAIJF_K",
        "outputId": "d09f8c61-0134-4d76-fc5f-9e706245623d"
      },
      "source": [
        "id3_dt.tree"
      ],
      "execution_count": null,
      "outputs": [
        {
          "output_type": "execute_result",
          "data": {
            "text/plain": [
              "{'4 ==  Married-civ-spouse': [{'3 <= 12': [{'9 <= 5013': [0, 1]}, 1]},\n",
              "  {'9 <= 6849': [0, {'0 <= 20': [0, 1]}]}]}"
            ]
          },
          "metadata": {},
          "execution_count": 22
        }
      ]
    }
  ]
}